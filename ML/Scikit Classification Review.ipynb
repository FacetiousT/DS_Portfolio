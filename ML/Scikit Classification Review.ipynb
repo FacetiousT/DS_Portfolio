{
 "cells": [
  {
   "cell_type": "code",
   "execution_count": 1,
   "metadata": {},
   "outputs": [
    {
     "data": {
      "application/javascript": [
       "IPython.OutputArea.prototype._should_scroll = function(lines) {\n",
       "    return false;\n",
       "}"
      ],
      "text/plain": [
       "<IPython.core.display.Javascript object>"
      ]
     },
     "metadata": {},
     "output_type": "display_data"
    }
   ],
   "source": [
    "%%javascript\n",
    "IPython.OutputArea.prototype._should_scroll = function(lines) {\n",
    "    return false;\n",
    "}"
   ]
  },
  {
   "cell_type": "markdown",
   "metadata": {},
   "source": [
    "## Scikit Classification Review\n",
    "\n",
    "An overview of classification methods via scikit-learn. This notebook is a \"quick\" review of classification techniques, with some simplified tuning, feature selection, and EDA (exploratory data analysis).\n",
    "\n",
    "<b>By no means</b> will this notebook consider <i>all</i> classification methods or techniques, nor will it consider <i>all</i> the possible edge cases or issues that may arise (they are many), but will serve as a broad overview with some simpler optimization steps.  I may reference areas for further consideration below."
   ]
  },
  {
   "cell_type": "markdown",
   "metadata": {},
   "source": [
    "### Objective\n",
    "\n",
    "This notebook will attempt to accurately predict the target class in the data described below.  Specifically, whether or not the mushrooms observed in the data are poisonous or not.\n",
    "\n",
    "### Methods\n",
    "\n",
    "I will follow these high-level steps below:\n",
    "\n",
    "1. <a href=\"#extract\"> Extract Data </a>\n",
    "2. <a href=\"#summarize\">Data Summarization </a>\n",
    "3. <a href=\"#processing\"> Data Processing </a>\n",
    "4. <a href=\"#tuning\">Model Tuning </a>\n",
    "5. <a href=\"#brief\">Brief Explanations of Algorithms</a>\n",
    "6. <a href=\"#fit\">Fit Models &amp; Make Predictions</a>\n",
    "7. <a href=\"#evaluate\">Evaluate Models </a>\n",
    "\n",
    "Afterwards, I will draw some conclusions and make <a href=\"#final\">final remarks</a>.\n",
    "\n",
    "### Data Source\n",
    "\n",
    "My dataset, The UCI Mushroom Data Set, comes from the UCI repository (by way of Kaggle) at <a href=\"https://www.kaggle.com/uciml/mushroom-classification\">this link</a>.  \n",
    "The original dataset can be found at https://archive.ics.uci.edu/ml/datasets/mushroom as well.\n",
    "\n",
    "Some dataset info from UCI:\n",
    "\n",
    "<h4>Data Set Information:</h4>\n",
    "\n",
    "<p>This data set includes descriptions of hypothetical samples corresponding to 23 species of gilled mushrooms in the Agaricus and Lepiota Family (pp. 500-525). Each species is identified as definitely edible, definitely poisonous, or of unknown edibility and not recommended. This latter class was combined with the poisonous one. The Guide clearly states that there is no simple rule for determining the edibility of a mushroom; no rule like ``leaflets three, let it be'' for Poisonous Oak and Ivy.</p>\n",
    "\n",
    "\n",
    "<h4>Attribute Information:</h4>\n",
    "\n",
    "<ol>\n",
    "<li> cap-shape: bell=b,conical=c,convex=x,flat=f, knobbed=k,sunken=s </li>\n",
    "<li> cap-surface: fibrous=f,grooves=g,scaly=y,smooth=s </li>\n",
    "<li> cap-color: brown=n,buff=b,cinnamon=c,gray=g,green=r, pink=p,purple=u,red=e,white=w,yellow=y </li>\n",
    "<li> bruises?: bruises=t,no=f </li>\n",
    "<li> odor: almond=a,anise=l,creosote=c,fishy=y,foul=f, musty=m,none=n,pungent=p,spicy=s </li>\n",
    "<li> gill-attachment: attached=a,descending=d,free=f,notched=n </li>\n",
    "<li> gill-spacing: close=c,crowded=w,distant=d </li>\n",
    "<li> gill-size: broad=b,narrow=n </li>\n",
    "<li> gill-color: black=k,brown=n,buff=b,chocolate=h,gray=g, green=r,orange=o,pink=p,purple=u,red=e, white=w,yellow=y </li>\n",
    "<li> stalk-shape: enlarging=e,tapering=t </li>\n",
    "<li> stalk-root: bulbous=b,club=c,cup=u,equal=e, rhizomorphs=z,rooted=r,missing=? </li>\n",
    "<li> stalk-surface-above-ring: fibrous=f,scaly=y,silky=k,smooth=s </li>\n",
    "<li> stalk-surface-below-ring: fibrous=f,scaly=y,silky=k,smooth=s </li>\n",
    "<li> stalk-color-above-ring: brown=n,buff=b,cinnamon=c,gray=g,orange=o, pink=p,red=e,white=w,yellow=y </li>\n",
    "<li> stalk-color-below-ring: brown=n,buff=b,cinnamon=c,gray=g,orange=o, pink=p,red=e,white=w,yellow=y </li>\n",
    "<li> veil-type: partial=p,universal=u </li>\n",
    "<li> veil-color: brown=n,orange=o,white=w,yellow=y </li>\n",
    "<li> ring-number: none=n,one=o,two=t </li>\n",
    "<li> ring-type: cobwebby=c,evanescent=e,flaring=f,large=l, none=n,pendant=p,sheathing=s,zone=z </li>\n",
    "<li> spore-print-color: black=k,brown=n,buff=b,chocolate=h,green=r, orange=o,purple=u,white=w,yellow=y </li>\n",
    "<li> population: abundant=a,clustered=c,numerous=n, scattered=s,several=v,solitary=y </li>\n",
    "<li> habitat: grasses=g,leaves=l,meadows=m,paths=p, urban=u,waste=w,woods=d</li>"
   ]
  },
  {
   "cell_type": "code",
   "execution_count": 2,
   "metadata": {
    "collapsed": true
   },
   "outputs": [],
   "source": [
    "#A notebook to review the main classification algos and the process for building a good classifier with scikit\n",
    "#explain the data source and the goal, build a basic pipeline, do basic data cleaning and EDA\n",
    "#create text to explain all this\n",
    "#some notes taken from https://www.kaggle.com/jeffd23/10-classifier-showdown-in-scikit-learn"
   ]
  },
  {
   "cell_type": "code",
   "execution_count": 3,
   "metadata": {},
   "outputs": [
    {
     "name": "stderr",
     "output_type": "stream",
     "text": [
      "C:\\Users\\tnelson\\Anaconda3\\lib\\site-packages\\sklearn\\ensemble\\weight_boosting.py:29: DeprecationWarning: numpy.core.umath_tests is an internal NumPy module and should not be imported. It will be removed in a future NumPy release.\n",
      "  from numpy.core.umath_tests import inner1d\n"
     ]
    }
   ],
   "source": [
    "#import libraries\n",
    "\n",
    "#basic libraries always needed\n",
    "import numpy as np\n",
    "import pandas as pd\n",
    "from IPython.display import display, HTML\n",
    "\n",
    "#some data processing libraries\n",
    "from sklearn.model_selection import train_test_split\n",
    "from sklearn.preprocessing import StandardScaler\n",
    "\n",
    "#get all the classifier algos, explain all of them\n",
    "from sklearn.neighbors import KNeighborsClassifier\n",
    "from sklearn.tree import DecisionTreeClassifier\n",
    "from sklearn.svm import SVC, LinearSVC, NuSVC\n",
    "from sklearn.naive_bayes import GaussianNB\n",
    "#ensemble methods\n",
    "from sklearn.ensemble import RandomForestClassifier, AdaBoostClassifier, GradientBoostingClassifier\n",
    "\n",
    "import re\n",
    "\n",
    "#may also use k-folds for tuning...\n",
    "\n",
    "#libraries to evaluate the models\n",
    "from sklearn.metrics import accuracy_score, log_loss, confusion_matrix, f1_score, auc, roc_curve, roc_auc_score\n",
    "\n",
    "#k-folds version of results, show how model selection works"
   ]
  },
  {
   "cell_type": "markdown",
   "metadata": {},
   "source": [
    "## Extract Data <a id=\"extract\"></a>"
   ]
  },
  {
   "cell_type": "code",
   "execution_count": 4,
   "metadata": {},
   "outputs": [],
   "source": [
    "#EXTRACT or load data\n",
    "#explain the variables and the target variable\n",
    "df = pd.read_csv('data/mushrooms.csv') #mushroom attributes and if they are poisonous or not"
   ]
  },
  {
   "cell_type": "code",
   "execution_count": 5,
   "metadata": {},
   "outputs": [
    {
     "data": {
      "text/html": [
       "<h3>Data Summarization:</h3><br><a id='summarize'></a>"
      ],
      "text/plain": [
       "<IPython.core.display.HTML object>"
      ]
     },
     "metadata": {},
     "output_type": "display_data"
    },
    {
     "name": "stdout",
     "output_type": "stream",
     "text": [
      "(rows,columns) (8124, 23)\n",
      "\n"
     ]
    },
    {
     "data": {
      "text/html": [
       "<p>Quick peek at the data, described:</p>"
      ],
      "text/plain": [
       "<IPython.core.display.HTML object>"
      ]
     },
     "metadata": {},
     "output_type": "display_data"
    },
    {
     "data": {
      "text/html": [
       "<div>\n",
       "<style scoped>\n",
       "    .dataframe tbody tr th:only-of-type {\n",
       "        vertical-align: middle;\n",
       "    }\n",
       "\n",
       "    .dataframe tbody tr th {\n",
       "        vertical-align: top;\n",
       "    }\n",
       "\n",
       "    .dataframe thead th {\n",
       "        text-align: right;\n",
       "    }\n",
       "</style>\n",
       "<table border=\"1\" class=\"dataframe\">\n",
       "  <thead>\n",
       "    <tr style=\"text-align: right;\">\n",
       "      <th></th>\n",
       "      <th>class</th>\n",
       "      <th>cap-shape</th>\n",
       "      <th>cap-surface</th>\n",
       "      <th>cap-color</th>\n",
       "      <th>bruises</th>\n",
       "      <th>odor</th>\n",
       "      <th>gill-attachment</th>\n",
       "      <th>gill-spacing</th>\n",
       "      <th>gill-size</th>\n",
       "      <th>gill-color</th>\n",
       "      <th>...</th>\n",
       "      <th>stalk-surface-below-ring</th>\n",
       "      <th>stalk-color-above-ring</th>\n",
       "      <th>stalk-color-below-ring</th>\n",
       "      <th>veil-type</th>\n",
       "      <th>veil-color</th>\n",
       "      <th>ring-number</th>\n",
       "      <th>ring-type</th>\n",
       "      <th>spore-print-color</th>\n",
       "      <th>population</th>\n",
       "      <th>habitat</th>\n",
       "    </tr>\n",
       "  </thead>\n",
       "  <tbody>\n",
       "    <tr>\n",
       "      <th>count</th>\n",
       "      <td>8124</td>\n",
       "      <td>8124</td>\n",
       "      <td>8124</td>\n",
       "      <td>8124</td>\n",
       "      <td>8124</td>\n",
       "      <td>8124</td>\n",
       "      <td>8124</td>\n",
       "      <td>8124</td>\n",
       "      <td>8124</td>\n",
       "      <td>8124</td>\n",
       "      <td>...</td>\n",
       "      <td>8124</td>\n",
       "      <td>8124</td>\n",
       "      <td>8124</td>\n",
       "      <td>8124</td>\n",
       "      <td>8124</td>\n",
       "      <td>8124</td>\n",
       "      <td>8124</td>\n",
       "      <td>8124</td>\n",
       "      <td>8124</td>\n",
       "      <td>8124</td>\n",
       "    </tr>\n",
       "    <tr>\n",
       "      <th>unique</th>\n",
       "      <td>2</td>\n",
       "      <td>6</td>\n",
       "      <td>4</td>\n",
       "      <td>10</td>\n",
       "      <td>2</td>\n",
       "      <td>9</td>\n",
       "      <td>2</td>\n",
       "      <td>2</td>\n",
       "      <td>2</td>\n",
       "      <td>12</td>\n",
       "      <td>...</td>\n",
       "      <td>4</td>\n",
       "      <td>9</td>\n",
       "      <td>9</td>\n",
       "      <td>1</td>\n",
       "      <td>4</td>\n",
       "      <td>3</td>\n",
       "      <td>5</td>\n",
       "      <td>9</td>\n",
       "      <td>6</td>\n",
       "      <td>7</td>\n",
       "    </tr>\n",
       "    <tr>\n",
       "      <th>top</th>\n",
       "      <td>e</td>\n",
       "      <td>x</td>\n",
       "      <td>y</td>\n",
       "      <td>n</td>\n",
       "      <td>f</td>\n",
       "      <td>n</td>\n",
       "      <td>f</td>\n",
       "      <td>c</td>\n",
       "      <td>b</td>\n",
       "      <td>b</td>\n",
       "      <td>...</td>\n",
       "      <td>s</td>\n",
       "      <td>w</td>\n",
       "      <td>w</td>\n",
       "      <td>p</td>\n",
       "      <td>w</td>\n",
       "      <td>o</td>\n",
       "      <td>p</td>\n",
       "      <td>w</td>\n",
       "      <td>v</td>\n",
       "      <td>d</td>\n",
       "    </tr>\n",
       "    <tr>\n",
       "      <th>freq</th>\n",
       "      <td>4208</td>\n",
       "      <td>3656</td>\n",
       "      <td>3244</td>\n",
       "      <td>2284</td>\n",
       "      <td>4748</td>\n",
       "      <td>3528</td>\n",
       "      <td>7914</td>\n",
       "      <td>6812</td>\n",
       "      <td>5612</td>\n",
       "      <td>1728</td>\n",
       "      <td>...</td>\n",
       "      <td>4936</td>\n",
       "      <td>4464</td>\n",
       "      <td>4384</td>\n",
       "      <td>8124</td>\n",
       "      <td>7924</td>\n",
       "      <td>7488</td>\n",
       "      <td>3968</td>\n",
       "      <td>2388</td>\n",
       "      <td>4040</td>\n",
       "      <td>3148</td>\n",
       "    </tr>\n",
       "  </tbody>\n",
       "</table>\n",
       "<p>4 rows × 23 columns</p>\n",
       "</div>"
      ],
      "text/plain": [
       "       class cap-shape cap-surface cap-color bruises  odor gill-attachment  \\\n",
       "count   8124      8124        8124      8124    8124  8124            8124   \n",
       "unique     2         6           4        10       2     9               2   \n",
       "top        e         x           y         n       f     n               f   \n",
       "freq    4208      3656        3244      2284    4748  3528            7914   \n",
       "\n",
       "       gill-spacing gill-size gill-color  ... stalk-surface-below-ring  \\\n",
       "count          8124      8124       8124  ...                     8124   \n",
       "unique            2         2         12  ...                        4   \n",
       "top               c         b          b  ...                        s   \n",
       "freq           6812      5612       1728  ...                     4936   \n",
       "\n",
       "       stalk-color-above-ring stalk-color-below-ring veil-type veil-color  \\\n",
       "count                    8124                   8124      8124       8124   \n",
       "unique                      9                      9         1          4   \n",
       "top                         w                      w         p          w   \n",
       "freq                     4464                   4384      8124       7924   \n",
       "\n",
       "       ring-number ring-type spore-print-color population habitat  \n",
       "count         8124      8124              8124       8124    8124  \n",
       "unique           3         5                 9          6       7  \n",
       "top              o         p                 w          v       d  \n",
       "freq          7488      3968              2388       4040    3148  \n",
       "\n",
       "[4 rows x 23 columns]"
      ]
     },
     "metadata": {},
     "output_type": "display_data"
    },
    {
     "name": "stdout",
     "output_type": "stream",
     "text": [
      "\n",
      "\n"
     ]
    },
    {
     "data": {
      "text/html": [
       "<p>Quick peek at the raw data:</p>"
      ],
      "text/plain": [
       "<IPython.core.display.HTML object>"
      ]
     },
     "metadata": {},
     "output_type": "display_data"
    },
    {
     "data": {
      "text/html": [
       "<div>\n",
       "<style scoped>\n",
       "    .dataframe tbody tr th:only-of-type {\n",
       "        vertical-align: middle;\n",
       "    }\n",
       "\n",
       "    .dataframe tbody tr th {\n",
       "        vertical-align: top;\n",
       "    }\n",
       "\n",
       "    .dataframe thead th {\n",
       "        text-align: right;\n",
       "    }\n",
       "</style>\n",
       "<table border=\"1\" class=\"dataframe\">\n",
       "  <thead>\n",
       "    <tr style=\"text-align: right;\">\n",
       "      <th></th>\n",
       "      <th>class</th>\n",
       "      <th>cap-shape</th>\n",
       "      <th>cap-surface</th>\n",
       "      <th>cap-color</th>\n",
       "      <th>bruises</th>\n",
       "      <th>odor</th>\n",
       "      <th>gill-attachment</th>\n",
       "      <th>gill-spacing</th>\n",
       "      <th>gill-size</th>\n",
       "      <th>gill-color</th>\n",
       "      <th>...</th>\n",
       "      <th>stalk-surface-below-ring</th>\n",
       "      <th>stalk-color-above-ring</th>\n",
       "      <th>stalk-color-below-ring</th>\n",
       "      <th>veil-type</th>\n",
       "      <th>veil-color</th>\n",
       "      <th>ring-number</th>\n",
       "      <th>ring-type</th>\n",
       "      <th>spore-print-color</th>\n",
       "      <th>population</th>\n",
       "      <th>habitat</th>\n",
       "    </tr>\n",
       "  </thead>\n",
       "  <tbody>\n",
       "    <tr>\n",
       "      <th>0</th>\n",
       "      <td>p</td>\n",
       "      <td>x</td>\n",
       "      <td>s</td>\n",
       "      <td>n</td>\n",
       "      <td>t</td>\n",
       "      <td>p</td>\n",
       "      <td>f</td>\n",
       "      <td>c</td>\n",
       "      <td>n</td>\n",
       "      <td>k</td>\n",
       "      <td>...</td>\n",
       "      <td>s</td>\n",
       "      <td>w</td>\n",
       "      <td>w</td>\n",
       "      <td>p</td>\n",
       "      <td>w</td>\n",
       "      <td>o</td>\n",
       "      <td>p</td>\n",
       "      <td>k</td>\n",
       "      <td>s</td>\n",
       "      <td>u</td>\n",
       "    </tr>\n",
       "    <tr>\n",
       "      <th>1</th>\n",
       "      <td>e</td>\n",
       "      <td>x</td>\n",
       "      <td>s</td>\n",
       "      <td>y</td>\n",
       "      <td>t</td>\n",
       "      <td>a</td>\n",
       "      <td>f</td>\n",
       "      <td>c</td>\n",
       "      <td>b</td>\n",
       "      <td>k</td>\n",
       "      <td>...</td>\n",
       "      <td>s</td>\n",
       "      <td>w</td>\n",
       "      <td>w</td>\n",
       "      <td>p</td>\n",
       "      <td>w</td>\n",
       "      <td>o</td>\n",
       "      <td>p</td>\n",
       "      <td>n</td>\n",
       "      <td>n</td>\n",
       "      <td>g</td>\n",
       "    </tr>\n",
       "    <tr>\n",
       "      <th>2</th>\n",
       "      <td>e</td>\n",
       "      <td>b</td>\n",
       "      <td>s</td>\n",
       "      <td>w</td>\n",
       "      <td>t</td>\n",
       "      <td>l</td>\n",
       "      <td>f</td>\n",
       "      <td>c</td>\n",
       "      <td>b</td>\n",
       "      <td>n</td>\n",
       "      <td>...</td>\n",
       "      <td>s</td>\n",
       "      <td>w</td>\n",
       "      <td>w</td>\n",
       "      <td>p</td>\n",
       "      <td>w</td>\n",
       "      <td>o</td>\n",
       "      <td>p</td>\n",
       "      <td>n</td>\n",
       "      <td>n</td>\n",
       "      <td>m</td>\n",
       "    </tr>\n",
       "    <tr>\n",
       "      <th>3</th>\n",
       "      <td>p</td>\n",
       "      <td>x</td>\n",
       "      <td>y</td>\n",
       "      <td>w</td>\n",
       "      <td>t</td>\n",
       "      <td>p</td>\n",
       "      <td>f</td>\n",
       "      <td>c</td>\n",
       "      <td>n</td>\n",
       "      <td>n</td>\n",
       "      <td>...</td>\n",
       "      <td>s</td>\n",
       "      <td>w</td>\n",
       "      <td>w</td>\n",
       "      <td>p</td>\n",
       "      <td>w</td>\n",
       "      <td>o</td>\n",
       "      <td>p</td>\n",
       "      <td>k</td>\n",
       "      <td>s</td>\n",
       "      <td>u</td>\n",
       "    </tr>\n",
       "    <tr>\n",
       "      <th>4</th>\n",
       "      <td>e</td>\n",
       "      <td>x</td>\n",
       "      <td>s</td>\n",
       "      <td>g</td>\n",
       "      <td>f</td>\n",
       "      <td>n</td>\n",
       "      <td>f</td>\n",
       "      <td>w</td>\n",
       "      <td>b</td>\n",
       "      <td>k</td>\n",
       "      <td>...</td>\n",
       "      <td>s</td>\n",
       "      <td>w</td>\n",
       "      <td>w</td>\n",
       "      <td>p</td>\n",
       "      <td>w</td>\n",
       "      <td>o</td>\n",
       "      <td>e</td>\n",
       "      <td>n</td>\n",
       "      <td>a</td>\n",
       "      <td>g</td>\n",
       "    </tr>\n",
       "  </tbody>\n",
       "</table>\n",
       "<p>5 rows × 23 columns</p>\n",
       "</div>"
      ],
      "text/plain": [
       "  class cap-shape cap-surface cap-color bruises odor gill-attachment  \\\n",
       "0     p         x           s         n       t    p               f   \n",
       "1     e         x           s         y       t    a               f   \n",
       "2     e         b           s         w       t    l               f   \n",
       "3     p         x           y         w       t    p               f   \n",
       "4     e         x           s         g       f    n               f   \n",
       "\n",
       "  gill-spacing gill-size gill-color  ... stalk-surface-below-ring  \\\n",
       "0            c         n          k  ...                        s   \n",
       "1            c         b          k  ...                        s   \n",
       "2            c         b          n  ...                        s   \n",
       "3            c         n          n  ...                        s   \n",
       "4            w         b          k  ...                        s   \n",
       "\n",
       "  stalk-color-above-ring stalk-color-below-ring veil-type veil-color  \\\n",
       "0                      w                      w         p          w   \n",
       "1                      w                      w         p          w   \n",
       "2                      w                      w         p          w   \n",
       "3                      w                      w         p          w   \n",
       "4                      w                      w         p          w   \n",
       "\n",
       "  ring-number ring-type spore-print-color population habitat  \n",
       "0           o         p                 k          s       u  \n",
       "1           o         p                 n          n       g  \n",
       "2           o         p                 n          n       m  \n",
       "3           o         p                 k          s       u  \n",
       "4           o         e                 n          a       g  \n",
       "\n",
       "[5 rows x 23 columns]"
      ]
     },
     "execution_count": 5,
     "metadata": {},
     "output_type": "execute_result"
    }
   ],
   "source": [
    "#quick attributes of the dataset\n",
    "display(HTML(\"<h3>Data Summarization:</h3><br><a id='summarize'></a>\"))\n",
    "print(\"(rows,columns) \"+str(df.shape)+\"\\n\")\n",
    "display(HTML(\"<p>Quick peek at the data, described:</p>\"))\n",
    "display(df.describe())\n",
    "print(\"\\n\")\n",
    "display(HTML(\"<p>Quick peek at the raw data:</p>\"))\n",
    "df.head(5)"
   ]
  },
  {
   "cell_type": "markdown",
   "metadata": {},
   "source": [
    "Above, 'class' is our target variable, with values of 'p' or 'e' indicating poisonous or edible, respectively.  We see that our dataset is pretty well balanced between these two classes, this is pretty rare, typically we would deal with some amount of class imbalance and have to take corrective measures, which is a topic for another notebook.\n",
    "\n",
    "Although we cannot see all the columns above, it looks like all of our independent variables, or predictor variables, are categorical, which already indicates some algorithms will initially perform better on this data--we will need to perform some feature extraction to make this dataset work for all of the algorithms.  We see that most variables have more than 1 value, but also we see 1 variable that has only one value so that's going to provide no information--some of these variables will certainly be more informative than others re: the target."
   ]
  },
  {
   "cell_type": "markdown",
   "metadata": {},
   "source": [
    "## Data Processing <a id=\"processing\"></a>"
   ]
  },
  {
   "cell_type": "markdown",
   "metadata": {},
   "source": [
    "Below, I encoded our variables and also extracted features for our machine learning algorithms.  Essentially, I needed to turn all of our variables above into numbers.\n",
    "\n",
    "First, I turned our target variable into a one-hot encoded variable, 1 for 'edible' and 0 for 'poisonous'.  Next, I turned every possible value for every possible feature into its own one-hot encoded variable, with zeroes and ones again.  I also checked for missing values and features that were highly-correlated--removing variables like that from our dataset.  Finally, I split our dataset into training and testing sets, the former to fit the models, the latter to evaluate the models."
   ]
  },
  {
   "cell_type": "code",
   "execution_count": 6,
   "metadata": {
    "collapsed": true
   },
   "outputs": [],
   "source": [
    "#one-hot the target\n",
    "def one_hot_target(column):\n",
    "    if column == 'e':\n",
    "        return 1\n",
    "    else:\n",
    "        return 0\n",
    "    \n",
    "df['class'] = df['class'].apply(one_hot_target)"
   ]
  },
  {
   "cell_type": "code",
   "execution_count": 7,
   "metadata": {
    "collapsed": true
   },
   "outputs": [],
   "source": [
    "#slice into independent and dependent variables\n",
    "X = df.iloc[:,1:]\n",
    "y = df.iloc[:,:1]"
   ]
  },
  {
   "cell_type": "code",
   "execution_count": 9,
   "metadata": {},
   "outputs": [
    {
     "name": "stdout",
     "output_type": "stream",
     "text": [
      "No. of missing values in column are:\n",
      "cap-shape : 0\n",
      "cap-surface : 0\n",
      "cap-color : 0\n",
      "bruises : 0\n",
      "odor : 0\n",
      "gill-attachment : 0\n",
      "gill-spacing : 0\n",
      "gill-size : 0\n",
      "gill-color : 0\n",
      "stalk-shape : 0\n",
      "stalk-root : 0\n",
      "stalk-surface-above-ring : 0\n",
      "stalk-surface-below-ring : 0\n",
      "stalk-color-above-ring : 0\n",
      "stalk-color-below-ring : 0\n",
      "veil-type : 0\n",
      "veil-color : 0\n",
      "ring-number : 0\n",
      "ring-type : 0\n",
      "spore-print-color : 0\n",
      "population : 0\n",
      "habitat : 0\n"
     ]
    }
   ],
   "source": [
    "#check for blanks, taken from https://www.kaggle.com/nikhilmishradev/poisonous-mushrooms-100-accuracy-for-beginners\n",
    "print(\"No. of missing values in column are:\")\n",
    "names = df.columns.values\n",
    "for i in range(1,23):\n",
    "    col_is_null=df.iloc[:,i].isnull().sum()\n",
    "    print(names[i],\":\",col_is_null)"
   ]
  },
  {
   "cell_type": "code",
   "execution_count": 10,
   "metadata": {
    "collapsed": true
   },
   "outputs": [],
   "source": [
    "#one hot encode and or get dummies\n",
    "column_holder=[]\n",
    "for x in range(22):\n",
    "    dummy = pd.get_dummies(X.iloc[:,x],prefix=X.columns.tolist()[x])\n",
    "    column_holder.append(dummy)\n",
    "    \n",
    "#merge all the columns/series(s) back into X\n",
    "X = pd.concat(column_holder, axis=1)"
   ]
  },
  {
   "cell_type": "code",
   "execution_count": 11,
   "metadata": {
    "collapsed": true
   },
   "outputs": [],
   "source": [
    "#check for high correlation\n",
    "pred_corr_matrix = X.corr().abs()\n",
    "\n",
    "# Select upper triangle of correlation matrix\n",
    "upper = pred_corr_matrix.where(np.triu(np.ones(pred_corr_matrix.shape), k=1).astype(np.bool))\n",
    "\n",
    "#find columns with correlation greater than 0.95\n",
    "to_drop = [column for column in upper.columns if any(upper[column] > 0.95)]\n",
    "\n",
    "# Drop features above our correlation threshold\n",
    "X = X.drop(X[to_drop], axis=1)"
   ]
  },
  {
   "cell_type": "code",
   "execution_count": 12,
   "metadata": {
    "collapsed": true
   },
   "outputs": [],
   "source": [
    "#create test, train splits\n",
    "X_train, X_test, y_train, y_test = train_test_split(X, y, test_size=0.3, random_state=42)"
   ]
  },
  {
   "cell_type": "code",
   "execution_count": 13,
   "metadata": {
    "collapsed": true
   },
   "outputs": [],
   "source": [
    "#reshape y_train\n",
    "c, r = y_train.shape\n",
    "y_train = y_train.values.reshape(c,)"
   ]
  },
  {
   "cell_type": "markdown",
   "metadata": {},
   "source": [
    "## Model Tuning <a id=\"tuning\"></a>\n",
    "\n",
    "Next, I took all the potential parameters of each model and randomly searched different values to see which model configurations were 'best' for fitting to our training data.  This is a basic step that often increases performance in machine learning modeling."
   ]
  },
  {
   "cell_type": "code",
   "execution_count": 14,
   "metadata": {
    "collapsed": true
   },
   "outputs": [],
   "source": [
    "#fit all the models\n",
    "\n",
    "#explain all models, this could take a while...\n",
    "classifiers = [\n",
    "    KNeighborsClassifier(),\n",
    "    SVC(),\n",
    "    NuSVC(probability=True),\n",
    "    DecisionTreeClassifier(random_state=42),\n",
    "    RandomForestClassifier(random_state=42),\n",
    "    AdaBoostClassifier(),\n",
    "    GradientBoostingClassifier(),\n",
    "    GaussianNB()\n",
    "]\n",
    "\n",
    "#a bit of tuning\n",
    "from sklearn.model_selection import GridSearchCV\n",
    "from sklearn.model_selection import RandomizedSearchCV\n",
    "\n",
    "#use random search hyperparameter tuning\n",
    "tuning_params = [\n",
    "    #KNN params\n",
    "    {\"n_neighbors\":[3,5,8,10],\n",
    "    \"weights\":['uniform','distance'],\n",
    "    \"algorithm\":['ball_tree','kd_tree','brute','auto']},\n",
    "    #SVC params\n",
    "    {\"C\":[1,0.5,0.2,0.1],\n",
    "    \"kernel\":[\"linear\",\"poly\",\"rbf\",\"sigmoid\"]},\n",
    "    {\"nu\":[0.2,0.4,0.5,0.6,0.8,],\n",
    "    \"kernel\":[\"linear\",\"poly\",\"rbf\",\"sigmoid\"],\n",
    "    \"shrinking\":[True,False]},\n",
    "    #DecisionTree params\n",
    "    {\"criterion\":['gini','entropy'],\n",
    "     \"max_depth\":[10,30,50,80,None],\n",
    "    \"min_samples_split\":[2,10,30,50],\n",
    "    \"max_features\":[5,10,20,None]},\n",
    "    #randomforest params\n",
    "    {\"n_estimators\":[5,10,25,50],\n",
    "    \"criterion\":[\"gini\",\"entropy\"],\n",
    "    \"max_depth\":[10,30,50,None],\n",
    "    \"max_features\":[5,10,20,None,\"auto\",\"sqrt\",\"log2\"]},\n",
    "    #adaboost classifier with multiple decision trees\n",
    "    {\"n_estimators\":[10,20,50,100],\n",
    "    \"learning_rate\":[0.2,0.6,1.0,2.0,5.0]},\n",
    "    #gradientboosting classifer\n",
    "    {\"loss\":[\"deviance\",\"exponential\"],\n",
    "    \"learning_rate\":[0.1,0.2,0.4,0.6,0.8],\n",
    "    \"n_estimators\":[10,20,50,100,150,200],\n",
    "    \"subsample\":[1.0,0.5,0.1],\n",
    "    \"criterion\":[\"friedman_mse\",\"mse\",\"mae\"],\n",
    "    \"min_samples_split\":[2,3,5,10],\n",
    "    \"max_depth\":[3,2,10,20],\n",
    "    \"max_features\":[5,10,20,None,\"auto\",\"sqrt\",\"log2\"]}\n",
    "]\n",
    "\n",
    "best_estimators = []\n",
    "\n",
    "# Utility function to report best scores\n",
    "def report(results, n_top=3):\n",
    "    for i in range(1, n_top + 1):\n",
    "        candidates = np.flatnonzero(results['rank_test_score'] == i)\n",
    "        for candidate in candidates:\n",
    "            print(\"Model with rank: {0}\".format(i))\n",
    "            print(\"Mean validation score: {0:.3f} (std: {1:.3f})\".format(\n",
    "                  results['mean_test_score'][candidate],\n",
    "                  results['std_test_score'][candidate]))\n",
    "            print(\"Parameters: {0}\".format(results['params'][candidate]))\n",
    "            print(\"\")"
   ]
  },
  {
   "cell_type": "code",
   "execution_count": 15,
   "metadata": {
    "scrolled": true
   },
   "outputs": [
    {
     "data": {
      "text/html": [
       "<p>Start parameter tuning with Random Search</p>"
      ],
      "text/plain": [
       "<IPython.core.display.HTML object>"
      ]
     },
     "metadata": {},
     "output_type": "display_data"
    },
    {
     "name": "stdout",
     "output_type": "stream",
     "text": [
      "KNeighborsClassifier\n",
      "Model with rank: 1\n",
      "Mean validation score: 1.000 (std: 0.000)\n",
      "Parameters: {'weights': 'uniform', 'n_neighbors': 3, 'algorithm': 'brute'}\n",
      "\n",
      "Model with rank: 1\n",
      "Mean validation score: 1.000 (std: 0.000)\n",
      "Parameters: {'weights': 'distance', 'n_neighbors': 3, 'algorithm': 'brute'}\n",
      "\n",
      "Model with rank: 1\n",
      "Mean validation score: 1.000 (std: 0.000)\n",
      "Parameters: {'weights': 'distance', 'n_neighbors': 3, 'algorithm': 'ball_tree'}\n",
      "\n",
      "Model with rank: 1\n",
      "Mean validation score: 1.000 (std: 0.000)\n",
      "Parameters: {'weights': 'uniform', 'n_neighbors': 3, 'algorithm': 'ball_tree'}\n",
      "\n",
      "Model with rank: 1\n",
      "Mean validation score: 1.000 (std: 0.000)\n",
      "Parameters: {'weights': 'distance', 'n_neighbors': 3, 'algorithm': 'kd_tree'}\n",
      "\n",
      "SVC(C=1.0, cache_siz\n",
      "Model with rank: 1\n",
      "Mean validation score: 0.999 (std: 0.001)\n",
      "Parameters: {'kernel': 'linear', 'C': 0.1}\n",
      "\n",
      "Model with rank: 1\n",
      "Mean validation score: 0.999 (std: 0.001)\n",
      "Parameters: {'kernel': 'linear', 'C': 0.2}\n",
      "\n",
      "Model with rank: 3\n",
      "Mean validation score: 0.987 (std: 0.003)\n",
      "Parameters: {'kernel': 'sigmoid', 'C': 1}\n",
      "\n",
      "NuSVC(cache_size=200\n",
      "Model with rank: 1\n",
      "Mean validation score: 0.993 (std: 0.004)\n",
      "Parameters: {'shrinking': False, 'nu': 0.2, 'kernel': 'poly'}\n",
      "\n",
      "Model with rank: 1\n",
      "Mean validation score: 0.993 (std: 0.004)\n",
      "Parameters: {'shrinking': True, 'nu': 0.2, 'kernel': 'poly'}\n",
      "\n",
      "Model with rank: 3\n",
      "Mean validation score: 0.936 (std: 0.006)\n",
      "Parameters: {'shrinking': True, 'nu': 0.4, 'kernel': 'linear'}\n",
      "\n",
      "DecisionTreeClassifi\n",
      "Model with rank: 1\n",
      "Mean validation score: 1.000 (std: 0.000)\n",
      "Parameters: {'min_samples_split': 10, 'max_features': 10, 'max_depth': 80, 'criterion': 'gini'}\n",
      "\n",
      "Model with rank: 2\n",
      "Mean validation score: 1.000 (std: 0.001)\n",
      "Parameters: {'min_samples_split': 2, 'max_features': None, 'max_depth': 50, 'criterion': 'entropy'}\n",
      "\n",
      "Model with rank: 3\n",
      "Mean validation score: 0.998 (std: 0.001)\n",
      "Parameters: {'min_samples_split': 30, 'max_features': None, 'max_depth': 50, 'criterion': 'entropy'}\n",
      "\n",
      "RandomForestClassifi\n",
      "Model with rank: 1\n",
      "Mean validation score: 1.000 (std: 0.000)\n",
      "Parameters: {'n_estimators': 25, 'max_features': 'log2', 'max_depth': None, 'criterion': 'gini'}\n",
      "\n",
      "Model with rank: 1\n",
      "Mean validation score: 1.000 (std: 0.000)\n",
      "Parameters: {'n_estimators': 10, 'max_features': 'auto', 'max_depth': 50, 'criterion': 'gini'}\n",
      "\n",
      "Model with rank: 1\n",
      "Mean validation score: 1.000 (std: 0.000)\n",
      "Parameters: {'n_estimators': 25, 'max_features': 'log2', 'max_depth': 30, 'criterion': 'entropy'}\n",
      "\n",
      "Model with rank: 1\n",
      "Mean validation score: 1.000 (std: 0.000)\n",
      "Parameters: {'n_estimators': 10, 'max_features': 20, 'max_depth': 30, 'criterion': 'gini'}\n",
      "\n",
      "Model with rank: 1\n",
      "Mean validation score: 1.000 (std: 0.000)\n",
      "Parameters: {'n_estimators': 25, 'max_features': 'auto', 'max_depth': 30, 'criterion': 'entropy'}\n",
      "\n",
      "Model with rank: 1\n",
      "Mean validation score: 1.000 (std: 0.000)\n",
      "Parameters: {'n_estimators': 25, 'max_features': 'auto', 'max_depth': 50, 'criterion': 'gini'}\n",
      "\n",
      "Model with rank: 1\n",
      "Mean validation score: 1.000 (std: 0.000)\n",
      "Parameters: {'n_estimators': 25, 'max_features': 5, 'max_depth': 50, 'criterion': 'entropy'}\n",
      "\n",
      "Model with rank: 1\n",
      "Mean validation score: 1.000 (std: 0.000)\n",
      "Parameters: {'n_estimators': 50, 'max_features': 10, 'max_depth': 30, 'criterion': 'entropy'}\n",
      "\n",
      "AdaBoostClassifier(a\n",
      "Model with rank: 1\n",
      "Mean validation score: 1.000 (std: 0.000)\n",
      "Parameters: {'n_estimators': 100, 'learning_rate': 0.6}\n",
      "\n",
      "Model with rank: 2\n",
      "Mean validation score: 1.000 (std: 0.001)\n",
      "Parameters: {'n_estimators': 100, 'learning_rate': 0.2}\n",
      "\n",
      "Model with rank: 3\n",
      "Mean validation score: 0.999 (std: 0.001)\n",
      "Parameters: {'n_estimators': 20, 'learning_rate': 1.0}\n",
      "\n",
      "GradientBoostingClas\n",
      "Model with rank: 1\n",
      "Mean validation score: 1.000 (std: 0.000)\n",
      "Parameters: {'subsample': 0.5, 'n_estimators': 50, 'min_samples_split': 10, 'max_features': 'log2', 'max_depth': 20, 'loss': 'exponential', 'learning_rate': 0.2, 'criterion': 'mae'}\n",
      "\n",
      "Model with rank: 1\n",
      "Mean validation score: 1.000 (std: 0.000)\n",
      "Parameters: {'subsample': 1.0, 'n_estimators': 100, 'min_samples_split': 2, 'max_features': 10, 'max_depth': 10, 'loss': 'exponential', 'learning_rate': 0.4, 'criterion': 'friedman_mse'}\n",
      "\n",
      "Model with rank: 1\n",
      "Mean validation score: 1.000 (std: 0.000)\n",
      "Parameters: {'subsample': 1.0, 'n_estimators': 20, 'min_samples_split': 3, 'max_features': 'log2', 'max_depth': 10, 'loss': 'exponential', 'learning_rate': 0.2, 'criterion': 'mse'}\n",
      "\n",
      "Model with rank: 1\n",
      "Mean validation score: 1.000 (std: 0.000)\n",
      "Parameters: {'subsample': 0.5, 'n_estimators': 10, 'min_samples_split': 3, 'max_features': 10, 'max_depth': 10, 'loss': 'deviance', 'learning_rate': 0.8, 'criterion': 'mae'}\n",
      "\n"
     ]
    }
   ],
   "source": [
    "#some basic parameter tuning to pick 'pretty good' model configurations for each classifier type\n",
    "display(HTML('<p>Start parameter tuning with Random Search</p>'))\n",
    "\n",
    "for i in range(len(classifiers)-1):\n",
    "    # run randomized search\n",
    "    n_iter_search = 10\n",
    "    \n",
    "    print(str(classifiers[i])[:20])\n",
    "    \n",
    "    random_search = RandomizedSearchCV(classifiers[i], param_distributions=tuning_params[i],\n",
    "                                       n_iter=n_iter_search, cv=5, iid=False)\n",
    "    random_search.fit(X_train, y_train)\n",
    "    report(random_search.cv_results_)\n",
    "\n",
    "    best_estimators.append(random_search.best_estimator_)\n",
    "    \n",
    "best_estimators.append(classifiers[7])"
   ]
  },
  {
   "cell_type": "markdown",
   "metadata": {},
   "source": [
    "## Brief Explanations of Algorithms <a id=\"brief\"></a>\n",
    "\n",
    "It seems like a good idea to explain the differences in the machine learning algorithms I am training here.  Below, see brief explanations of how each classification algorithm, or learner, works.\n",
    "\n",
    "- KNearestNeighbors: This class of algorithm looks at the classes of data points that are most-similar to a data point we would like to predict. K is the number of \"neighbors\" the algorithm looks at per row of test data, then it assumes that the modal class (most frequent) is the likely class of the data point in question.\n",
    "- SVC (Support Vector Classifier):"
   ]
  },
  {
   "cell_type": "markdown",
   "metadata": {},
   "source": [
    "## Fit Models & Make Predictions <a id=\"fit\"></a>\n",
    "\n",
    "Next, I took the 'best' parameters for each model and re-fit the data via each algorithm.  After refitting to the training data, I made predictions with each model."
   ]
  },
  {
   "cell_type": "code",
   "execution_count": 16,
   "metadata": {},
   "outputs": [
    {
     "name": "stdout",
     "output_type": "stream",
     "text": [
      "KNeighborsClassifier\n",
      "SVC\n",
      "NuSVC\n",
      "DecisionTreeClassifier\n",
      "RandomForestClassifier\n",
      "AdaBoostClassifier\n",
      "GradientBoostingClassifier\n",
      "GaussianNB\n"
     ]
    }
   ],
   "source": [
    "#fit the best models to the data now\n",
    "predicted_series = {}\n",
    "for est in best_estimators:\n",
    "\n",
    "    #fit the estimator\n",
    "    est.fit(X_train,y_train)    \n",
    "    \n",
    "    if '(' in str(est):\n",
    "        print(re.search('.*\\(',str(est))[0][:-1])\n",
    "\n",
    "\n",
    "        #predict the classes and append series to the dictionary\n",
    "        predicted_series[re.search('.*\\(',str(est))[0][:-1]]=est.predict(X_test)    \n",
    "    \n",
    "    else:\n",
    "        print(str(est))\n",
    "    \n",
    "        #predict the classes and append series to the dictionary\n",
    "        predicted_series[str(est)[:20]]=est.predict(X_test)    "
   ]
  },
  {
   "cell_type": "markdown",
   "metadata": {},
   "source": [
    "## Evaluate Models <a id=\"evaluate\"></a>\n",
    "\n",
    "Below, I took all of my above predictions for the mushroom data then calculated model performance via a few performance metrics.  I chose to look at the log-loss, overall accuracy, and the AUC (area under the curve) of each trained model.  In brief: lower log-loss is better, higher accuracy and higher AUC are better."
   ]
  },
  {
   "cell_type": "code",
   "execution_count": 17,
   "metadata": {
    "collapsed": true
   },
   "outputs": [],
   "source": [
    "from sklearn import metrics\n",
    "import matplotlib.pyplot as plt\n",
    "\n",
    "#roc_curve function takes predicted labels as 'y_test', then true 'labels', then a title as arguments\n",
    "#need to rename these arguments\n",
    "def get_roc_curve(y_test,labels,title=''):\n",
    "\n",
    "    fpr, tpr, _ = metrics.roc_curve(y_test, labels)    \n",
    "\n",
    "    #calculate AUC\n",
    "    roc_auc = metrics.auc(fpr,tpr)    \n",
    "    \n",
    "    plt.figure()\n",
    "    lw = 2\n",
    "    plt.plot(fpr, tpr, color='darkorange',\n",
    "             lw=lw, label='ROC curve (area = %0.3f)' % roc_auc)\n",
    "    plt.plot([0, 1], [0, 1], color='navy', lw=lw, linestyle='--')\n",
    "    plt.xlim([0.0, 1.0])\n",
    "    plt.ylim([0.0, 1.05])\n",
    "    plt.xlabel('False Positive Rate')\n",
    "    plt.ylabel('True Positive Rate')\n",
    "    plt.title(title+'ROC')\n",
    "    plt.legend(loc=\"lower right\")\n",
    "    plt.show()    "
   ]
  },
  {
   "cell_type": "code",
   "execution_count": 18,
   "metadata": {
    "scrolled": false
   },
   "outputs": [
    {
     "data": {
      "text/html": [
       "<h3>KNeighborsClassifier ROC Curve</h3>"
      ],
      "text/plain": [
       "<IPython.core.display.HTML object>"
      ]
     },
     "metadata": {},
     "output_type": "display_data"
    },
    {
     "data": {
      "image/png": "[encoded data removed]",
      "text/plain": [
       "<matplotlib.figure.Figure at 0x1de36e2ba90>"
      ]
     },
     "metadata": {},
     "output_type": "display_data"
    },
    {
     "data": {
      "text/html": [
       "<p>log-loss: 0.0</p>"
      ],
      "text/plain": [
       "<IPython.core.display.HTML object>"
      ]
     },
     "metadata": {},
     "output_type": "display_data"
    },
    {
     "data": {
      "text/html": [
       "<p>accuracy: 100%</p>"
      ],
      "text/plain": [
       "<IPython.core.display.HTML object>"
      ]
     },
     "metadata": {},
     "output_type": "display_data"
    },
    {
     "data": {
      "text/html": [
       "<h3>KNeighborsClassifier Confusion Matrix</h3>"
      ],
      "text/plain": [
       "<IPython.core.display.HTML object>"
      ]
     },
     "metadata": {},
     "output_type": "display_data"
    },
    {
     "data": {
      "text/html": [
       "<style  type=\"text/css\" >\n",
       "    #T_a50b3318_9dd4_11e9_b77a_54ee75c9ca27row0_col0 {\n",
       "            color:  black;\n",
       "             background-color:  rgba(124,252,0,0.5);\n",
       "             font-weight:  bold;\n",
       "        }    #T_a50b3318_9dd4_11e9_b77a_54ee75c9ca27row0_col1 {\n",
       "            color:  red;\n",
       "        }    #T_a50b3318_9dd4_11e9_b77a_54ee75c9ca27row1_col0 {\n",
       "            color:  red;\n",
       "        }    #T_a50b3318_9dd4_11e9_b77a_54ee75c9ca27row1_col1 {\n",
       "            color:  black;\n",
       "             background-color:  rgba(124,252,0,0.5);\n",
       "             font-weight:  bold;\n",
       "        }</style><table id=\"T_a50b3318_9dd4_11e9_b77a_54ee75c9ca27\" ><thead>    <tr>        <th class=\"blank level0\" ></th>        <th class=\"col_heading level0 col0\" >predicted poison</th>        <th class=\"col_heading level0 col1\" >predicted edible</th>    </tr></thead><tbody>\n",
       "                <tr>\n",
       "                        <th id=\"T_a50b3318_9dd4_11e9_b77a_54ee75c9ca27level0_row0\" class=\"row_heading level0 row0\" >poison</th>\n",
       "                        <td id=\"T_a50b3318_9dd4_11e9_b77a_54ee75c9ca27row0_col0\" class=\"data row0 col0\" >1181</td>\n",
       "                        <td id=\"T_a50b3318_9dd4_11e9_b77a_54ee75c9ca27row0_col1\" class=\"data row0 col1\" >0</td>\n",
       "            </tr>\n",
       "            <tr>\n",
       "                        <th id=\"T_a50b3318_9dd4_11e9_b77a_54ee75c9ca27level0_row1\" class=\"row_heading level0 row1\" >edible</th>\n",
       "                        <td id=\"T_a50b3318_9dd4_11e9_b77a_54ee75c9ca27row1_col0\" class=\"data row1 col0\" >0</td>\n",
       "                        <td id=\"T_a50b3318_9dd4_11e9_b77a_54ee75c9ca27row1_col1\" class=\"data row1 col1\" >1257</td>\n",
       "            </tr>\n",
       "    </tbody></table>"
      ],
      "text/plain": [
       "<pandas.io.formats.style.Styler at 0x1de36fc9ba8>"
      ]
     },
     "metadata": {},
     "output_type": "display_data"
    },
    {
     "name": "stdout",
     "output_type": "stream",
     "text": [
      "\n",
      "\n"
     ]
    },
    {
     "data": {
      "text/html": [
       "<h3>SVC ROC Curve</h3>"
      ],
      "text/plain": [
       "<IPython.core.display.HTML object>"
      ]
     },
     "metadata": {},
     "output_type": "display_data"
    },
    {
     "data": {
      "image/png": "[encoded data removed]",
      "text/plain": [
       "<matplotlib.figure.Figure at 0x1de3708b198>"
      ]
     },
     "metadata": {},
     "output_type": "display_data"
    },
    {
     "data": {
      "text/html": [
       "<p>log-loss: 0.0425</p>"
      ],
      "text/plain": [
       "<IPython.core.display.HTML object>"
      ]
     },
     "metadata": {},
     "output_type": "display_data"
    },
    {
     "data": {
      "text/html": [
       "<p>accuracy: 99%</p>"
      ],
      "text/plain": [
       "<IPython.core.display.HTML object>"
      ]
     },
     "metadata": {},
     "output_type": "display_data"
    },
    {
     "data": {
      "text/html": [
       "<h3>SVC Confusion Matrix</h3>"
      ],
      "text/plain": [
       "<IPython.core.display.HTML object>"
      ]
     },
     "metadata": {},
     "output_type": "display_data"
    },
    {
     "data": {
      "text/html": [
       "<style  type=\"text/css\" >\n",
       "    #T_a52990dc_9dd4_11e9_b5d7_54ee75c9ca27row0_col0 {\n",
       "            color:  black;\n",
       "             background-color:  rgba(124,252,0,0.5);\n",
       "             font-weight:  bold;\n",
       "        }    #T_a52990dc_9dd4_11e9_b5d7_54ee75c9ca27row0_col1 {\n",
       "            color:  black;\n",
       "             background-color:  rgba(124,252,0,0.5);\n",
       "             font-weight:  bold;\n",
       "        }    #T_a52990dc_9dd4_11e9_b5d7_54ee75c9ca27row1_col0 {\n",
       "            color:  red;\n",
       "        }    #T_a52990dc_9dd4_11e9_b5d7_54ee75c9ca27row1_col1 {\n",
       "            color:  black;\n",
       "             background-color:  rgba(124,252,0,0.5);\n",
       "             font-weight:  bold;\n",
       "        }</style><table id=\"T_a52990dc_9dd4_11e9_b5d7_54ee75c9ca27\" ><thead>    <tr>        <th class=\"blank level0\" ></th>        <th class=\"col_heading level0 col0\" >predicted poison</th>        <th class=\"col_heading level0 col1\" >predicted edible</th>    </tr></thead><tbody>\n",
       "                <tr>\n",
       "                        <th id=\"T_a52990dc_9dd4_11e9_b5d7_54ee75c9ca27level0_row0\" class=\"row_heading level0 row0\" >poison</th>\n",
       "                        <td id=\"T_a52990dc_9dd4_11e9_b5d7_54ee75c9ca27row0_col0\" class=\"data row0 col0\" >1178</td>\n",
       "                        <td id=\"T_a52990dc_9dd4_11e9_b5d7_54ee75c9ca27row0_col1\" class=\"data row0 col1\" >3</td>\n",
       "            </tr>\n",
       "            <tr>\n",
       "                        <th id=\"T_a52990dc_9dd4_11e9_b5d7_54ee75c9ca27level0_row1\" class=\"row_heading level0 row1\" >edible</th>\n",
       "                        <td id=\"T_a52990dc_9dd4_11e9_b5d7_54ee75c9ca27row1_col0\" class=\"data row1 col0\" >0</td>\n",
       "                        <td id=\"T_a52990dc_9dd4_11e9_b5d7_54ee75c9ca27row1_col1\" class=\"data row1 col1\" >1257</td>\n",
       "            </tr>\n",
       "    </tbody></table>"
      ],
      "text/plain": [
       "<pandas.io.formats.style.Styler at 0x1de36fa2be0>"
      ]
     },
     "metadata": {},
     "output_type": "display_data"
    },
    {
     "name": "stdout",
     "output_type": "stream",
     "text": [
      "\n",
      "\n"
     ]
    },
    {
     "data": {
      "text/html": [
       "<h3>NuSVC ROC Curve</h3>"
      ],
      "text/plain": [
       "<IPython.core.display.HTML object>"
      ]
     },
     "metadata": {},
     "output_type": "display_data"
    },
    {
     "data": {
      "image/png": "[encoded data removed]",
      "text/plain": [
       "<matplotlib.figure.Figure at 0x1de37140d68>"
      ]
     },
     "metadata": {},
     "output_type": "display_data"
    },
    {
     "data": {
      "text/html": [
       "<p>log-loss: 0.19834</p>"
      ],
      "text/plain": [
       "<IPython.core.display.HTML object>"
      ]
     },
     "metadata": {},
     "output_type": "display_data"
    },
    {
     "data": {
      "text/html": [
       "<p>accuracy: 99%</p>"
      ],
      "text/plain": [
       "<IPython.core.display.HTML object>"
      ]
     },
     "metadata": {},
     "output_type": "display_data"
    },
    {
     "data": {
      "text/html": [
       "<h3>NuSVC Confusion Matrix</h3>"
      ],
      "text/plain": [
       "<IPython.core.display.HTML object>"
      ]
     },
     "metadata": {},
     "output_type": "display_data"
    },
    {
     "data": {
      "text/html": [
       "<style  type=\"text/css\" >\n",
       "    #T_a5492682_9dd4_11e9_a369_54ee75c9ca27row0_col0 {\n",
       "            color:  black;\n",
       "             background-color:  rgba(124,252,0,0.5);\n",
       "             font-weight:  bold;\n",
       "        }    #T_a5492682_9dd4_11e9_a369_54ee75c9ca27row0_col1 {\n",
       "            color:  black;\n",
       "             background-color:  rgba(124,252,0,0.5);\n",
       "             font-weight:  bold;\n",
       "        }    #T_a5492682_9dd4_11e9_a369_54ee75c9ca27row1_col0 {\n",
       "            color:  red;\n",
       "        }    #T_a5492682_9dd4_11e9_a369_54ee75c9ca27row1_col1 {\n",
       "            color:  black;\n",
       "             background-color:  rgba(124,252,0,0.5);\n",
       "             font-weight:  bold;\n",
       "        }</style><table id=\"T_a5492682_9dd4_11e9_a369_54ee75c9ca27\" ><thead>    <tr>        <th class=\"blank level0\" ></th>        <th class=\"col_heading level0 col0\" >predicted poison</th>        <th class=\"col_heading level0 col1\" >predicted edible</th>    </tr></thead><tbody>\n",
       "                <tr>\n",
       "                        <th id=\"T_a5492682_9dd4_11e9_a369_54ee75c9ca27level0_row0\" class=\"row_heading level0 row0\" >poison</th>\n",
       "                        <td id=\"T_a5492682_9dd4_11e9_a369_54ee75c9ca27row0_col0\" class=\"data row0 col0\" >1167</td>\n",
       "                        <td id=\"T_a5492682_9dd4_11e9_a369_54ee75c9ca27row0_col1\" class=\"data row0 col1\" >14</td>\n",
       "            </tr>\n",
       "            <tr>\n",
       "                        <th id=\"T_a5492682_9dd4_11e9_a369_54ee75c9ca27level0_row1\" class=\"row_heading level0 row1\" >edible</th>\n",
       "                        <td id=\"T_a5492682_9dd4_11e9_a369_54ee75c9ca27row1_col0\" class=\"data row1 col0\" >0</td>\n",
       "                        <td id=\"T_a5492682_9dd4_11e9_a369_54ee75c9ca27row1_col1\" class=\"data row1 col1\" >1257</td>\n",
       "            </tr>\n",
       "    </tbody></table>"
      ],
      "text/plain": [
       "<pandas.io.formats.style.Styler at 0x1de36f90208>"
      ]
     },
     "metadata": {},
     "output_type": "display_data"
    },
    {
     "name": "stdout",
     "output_type": "stream",
     "text": [
      "\n",
      "\n"
     ]
    },
    {
     "data": {
      "text/html": [
       "<h3>DecisionTreeClassifier ROC Curve</h3>"
      ],
      "text/plain": [
       "<IPython.core.display.HTML object>"
      ]
     },
     "metadata": {},
     "output_type": "display_data"
    },
    {
     "data": {
      "image/png": "[encoded data removed]",
      "text/plain": [
       "<matplotlib.figure.Figure at 0x1de37140ac8>"
      ]
     },
     "metadata": {},
     "output_type": "display_data"
    },
    {
     "data": {
      "text/html": [
       "<p>log-loss: 0.02833</p>"
      ],
      "text/plain": [
       "<IPython.core.display.HTML object>"
      ]
     },
     "metadata": {},
     "output_type": "display_data"
    },
    {
     "data": {
      "text/html": [
       "<p>accuracy: 99%</p>"
      ],
      "text/plain": [
       "<IPython.core.display.HTML object>"
      ]
     },
     "metadata": {},
     "output_type": "display_data"
    },
    {
     "data": {
      "text/html": [
       "<h3>DecisionTreeClassifier Confusion Matrix</h3>"
      ],
      "text/plain": [
       "<IPython.core.display.HTML object>"
      ]
     },
     "metadata": {},
     "output_type": "display_data"
    },
    {
     "data": {
      "text/html": [
       "<style  type=\"text/css\" >\n",
       "    #T_a56adf74_9dd4_11e9_b2be_54ee75c9ca27row0_col0 {\n",
       "            color:  black;\n",
       "             background-color:  rgba(124,252,0,0.5);\n",
       "             font-weight:  bold;\n",
       "        }    #T_a56adf74_9dd4_11e9_b2be_54ee75c9ca27row0_col1 {\n",
       "            color:  black;\n",
       "             background-color:  rgba(124,252,0,0.5);\n",
       "             font-weight:  bold;\n",
       "        }    #T_a56adf74_9dd4_11e9_b2be_54ee75c9ca27row1_col0 {\n",
       "            color:  black;\n",
       "             background-color:  rgba(124,252,0,0.5);\n",
       "             font-weight:  bold;\n",
       "        }    #T_a56adf74_9dd4_11e9_b2be_54ee75c9ca27row1_col1 {\n",
       "            color:  black;\n",
       "             background-color:  rgba(124,252,0,0.5);\n",
       "             font-weight:  bold;\n",
       "        }</style><table id=\"T_a56adf74_9dd4_11e9_b2be_54ee75c9ca27\" ><thead>    <tr>        <th class=\"blank level0\" ></th>        <th class=\"col_heading level0 col0\" >predicted poison</th>        <th class=\"col_heading level0 col1\" >predicted edible</th>    </tr></thead><tbody>\n",
       "                <tr>\n",
       "                        <th id=\"T_a56adf74_9dd4_11e9_b2be_54ee75c9ca27level0_row0\" class=\"row_heading level0 row0\" >poison</th>\n",
       "                        <td id=\"T_a56adf74_9dd4_11e9_b2be_54ee75c9ca27row0_col0\" class=\"data row0 col0\" >1180</td>\n",
       "                        <td id=\"T_a56adf74_9dd4_11e9_b2be_54ee75c9ca27row0_col1\" class=\"data row0 col1\" >1</td>\n",
       "            </tr>\n",
       "            <tr>\n",
       "                        <th id=\"T_a56adf74_9dd4_11e9_b2be_54ee75c9ca27level0_row1\" class=\"row_heading level0 row1\" >edible</th>\n",
       "                        <td id=\"T_a56adf74_9dd4_11e9_b2be_54ee75c9ca27row1_col0\" class=\"data row1 col0\" >1</td>\n",
       "                        <td id=\"T_a56adf74_9dd4_11e9_b2be_54ee75c9ca27row1_col1\" class=\"data row1 col1\" >1256</td>\n",
       "            </tr>\n",
       "    </tbody></table>"
      ],
      "text/plain": [
       "<pandas.io.formats.style.Styler at 0x1de371cdeb8>"
      ]
     },
     "metadata": {},
     "output_type": "display_data"
    },
    {
     "name": "stdout",
     "output_type": "stream",
     "text": [
      "\n",
      "\n"
     ]
    },
    {
     "data": {
      "text/html": [
       "<h3>RandomForestClassifier ROC Curve</h3>"
      ],
      "text/plain": [
       "<IPython.core.display.HTML object>"
      ]
     },
     "metadata": {},
     "output_type": "display_data"
    },
    {
     "data": {
      "image/png": "[encoded data removed]",
      "text/plain": [
       "<matplotlib.figure.Figure at 0x1de37121550>"
      ]
     },
     "metadata": {},
     "output_type": "display_data"
    },
    {
     "data": {
      "text/html": [
       "<p>log-loss: 0.0</p>"
      ],
      "text/plain": [
       "<IPython.core.display.HTML object>"
      ]
     },
     "metadata": {},
     "output_type": "display_data"
    },
    {
     "data": {
      "text/html": [
       "<p>accuracy: 100%</p>"
      ],
      "text/plain": [
       "<IPython.core.display.HTML object>"
      ]
     },
     "metadata": {},
     "output_type": "display_data"
    },
    {
     "data": {
      "text/html": [
       "<h3>RandomForestClassifier Confusion Matrix</h3>"
      ],
      "text/plain": [
       "<IPython.core.display.HTML object>"
      ]
     },
     "metadata": {},
     "output_type": "display_data"
    },
    {
     "data": {
      "text/html": [
       "<style  type=\"text/css\" >\n",
       "    #T_a59c76d8_9dd4_11e9_b142_54ee75c9ca27row0_col0 {\n",
       "            color:  black;\n",
       "             background-color:  rgba(124,252,0,0.5);\n",
       "             font-weight:  bold;\n",
       "        }    #T_a59c76d8_9dd4_11e9_b142_54ee75c9ca27row0_col1 {\n",
       "            color:  red;\n",
       "        }    #T_a59c76d8_9dd4_11e9_b142_54ee75c9ca27row1_col0 {\n",
       "            color:  red;\n",
       "        }    #T_a59c76d8_9dd4_11e9_b142_54ee75c9ca27row1_col1 {\n",
       "            color:  black;\n",
       "             background-color:  rgba(124,252,0,0.5);\n",
       "             font-weight:  bold;\n",
       "        }</style><table id=\"T_a59c76d8_9dd4_11e9_b142_54ee75c9ca27\" ><thead>    <tr>        <th class=\"blank level0\" ></th>        <th class=\"col_heading level0 col0\" >predicted poison</th>        <th class=\"col_heading level0 col1\" >predicted edible</th>    </tr></thead><tbody>\n",
       "                <tr>\n",
       "                        <th id=\"T_a59c76d8_9dd4_11e9_b142_54ee75c9ca27level0_row0\" class=\"row_heading level0 row0\" >poison</th>\n",
       "                        <td id=\"T_a59c76d8_9dd4_11e9_b142_54ee75c9ca27row0_col0\" class=\"data row0 col0\" >1181</td>\n",
       "                        <td id=\"T_a59c76d8_9dd4_11e9_b142_54ee75c9ca27row0_col1\" class=\"data row0 col1\" >0</td>\n",
       "            </tr>\n",
       "            <tr>\n",
       "                        <th id=\"T_a59c76d8_9dd4_11e9_b142_54ee75c9ca27level0_row1\" class=\"row_heading level0 row1\" >edible</th>\n",
       "                        <td id=\"T_a59c76d8_9dd4_11e9_b142_54ee75c9ca27row1_col0\" class=\"data row1 col0\" >0</td>\n",
       "                        <td id=\"T_a59c76d8_9dd4_11e9_b142_54ee75c9ca27row1_col1\" class=\"data row1 col1\" >1257</td>\n",
       "            </tr>\n",
       "    </tbody></table>"
      ],
      "text/plain": [
       "<pandas.io.formats.style.Styler at 0x1de36f6d7b8>"
      ]
     },
     "metadata": {},
     "output_type": "display_data"
    },
    {
     "name": "stdout",
     "output_type": "stream",
     "text": [
      "\n",
      "\n"
     ]
    },
    {
     "data": {
      "text/html": [
       "<h3>AdaBoostClassifier ROC Curve</h3>"
      ],
      "text/plain": [
       "<IPython.core.display.HTML object>"
      ]
     },
     "metadata": {},
     "output_type": "display_data"
    },
    {
     "data": {
      "image/png": "[encoded data removed]",
      "text/plain": [
       "<matplotlib.figure.Figure at 0x1de371bf668>"
      ]
     },
     "metadata": {},
     "output_type": "display_data"
    },
    {
     "data": {
      "text/html": [
       "<p>log-loss: 0.0</p>"
      ],
      "text/plain": [
       "<IPython.core.display.HTML object>"
      ]
     },
     "metadata": {},
     "output_type": "display_data"
    },
    {
     "data": {
      "text/html": [
       "<p>accuracy: 100%</p>"
      ],
      "text/plain": [
       "<IPython.core.display.HTML object>"
      ]
     },
     "metadata": {},
     "output_type": "display_data"
    },
    {
     "data": {
      "text/html": [
       "<h3>AdaBoostClassifier Confusion Matrix</h3>"
      ],
      "text/plain": [
       "<IPython.core.display.HTML object>"
      ]
     },
     "metadata": {},
     "output_type": "display_data"
    },
    {
     "data": {
      "text/html": [
       "<style  type=\"text/css\" >\n",
       "    #T_a5bf8f5c_9dd4_11e9_8acf_54ee75c9ca27row0_col0 {\n",
       "            color:  black;\n",
       "             background-color:  rgba(124,252,0,0.5);\n",
       "             font-weight:  bold;\n",
       "        }    #T_a5bf8f5c_9dd4_11e9_8acf_54ee75c9ca27row0_col1 {\n",
       "            color:  red;\n",
       "        }    #T_a5bf8f5c_9dd4_11e9_8acf_54ee75c9ca27row1_col0 {\n",
       "            color:  red;\n",
       "        }    #T_a5bf8f5c_9dd4_11e9_8acf_54ee75c9ca27row1_col1 {\n",
       "            color:  black;\n",
       "             background-color:  rgba(124,252,0,0.5);\n",
       "             font-weight:  bold;\n",
       "        }</style><table id=\"T_a5bf8f5c_9dd4_11e9_8acf_54ee75c9ca27\" ><thead>    <tr>        <th class=\"blank level0\" ></th>        <th class=\"col_heading level0 col0\" >predicted poison</th>        <th class=\"col_heading level0 col1\" >predicted edible</th>    </tr></thead><tbody>\n",
       "                <tr>\n",
       "                        <th id=\"T_a5bf8f5c_9dd4_11e9_8acf_54ee75c9ca27level0_row0\" class=\"row_heading level0 row0\" >poison</th>\n",
       "                        <td id=\"T_a5bf8f5c_9dd4_11e9_8acf_54ee75c9ca27row0_col0\" class=\"data row0 col0\" >1181</td>\n",
       "                        <td id=\"T_a5bf8f5c_9dd4_11e9_8acf_54ee75c9ca27row0_col1\" class=\"data row0 col1\" >0</td>\n",
       "            </tr>\n",
       "            <tr>\n",
       "                        <th id=\"T_a5bf8f5c_9dd4_11e9_8acf_54ee75c9ca27level0_row1\" class=\"row_heading level0 row1\" >edible</th>\n",
       "                        <td id=\"T_a5bf8f5c_9dd4_11e9_8acf_54ee75c9ca27row1_col0\" class=\"data row1 col0\" >0</td>\n",
       "                        <td id=\"T_a5bf8f5c_9dd4_11e9_8acf_54ee75c9ca27row1_col1\" class=\"data row1 col1\" >1257</td>\n",
       "            </tr>\n",
       "    </tbody></table>"
      ],
      "text/plain": [
       "<pandas.io.formats.style.Styler at 0x1de371bfe10>"
      ]
     },
     "metadata": {},
     "output_type": "display_data"
    },
    {
     "name": "stdout",
     "output_type": "stream",
     "text": [
      "\n",
      "\n"
     ]
    },
    {
     "data": {
      "text/html": [
       "<h3>GradientBoostingClassifier ROC Curve</h3>"
      ],
      "text/plain": [
       "<IPython.core.display.HTML object>"
      ]
     },
     "metadata": {},
     "output_type": "display_data"
    },
    {
     "data": {
      "image/png": "[encoded data removed]",
      "text/plain": [
       "<matplotlib.figure.Figure at 0x1de371bf978>"
      ]
     },
     "metadata": {},
     "output_type": "display_data"
    },
    {
     "data": {
      "text/html": [
       "<p>log-loss: 0.0</p>"
      ],
      "text/plain": [
       "<IPython.core.display.HTML object>"
      ]
     },
     "metadata": {},
     "output_type": "display_data"
    },
    {
     "data": {
      "text/html": [
       "<p>accuracy: 100%</p>"
      ],
      "text/plain": [
       "<IPython.core.display.HTML object>"
      ]
     },
     "metadata": {},
     "output_type": "display_data"
    },
    {
     "data": {
      "text/html": [
       "<h3>GradientBoostingClassifier Confusion Matrix</h3>"
      ],
      "text/plain": [
       "<IPython.core.display.HTML object>"
      ]
     },
     "metadata": {},
     "output_type": "display_data"
    },
    {
     "data": {
      "text/html": [
       "<style  type=\"text/css\" >\n",
       "    #T_a5e8e93a_9dd4_11e9_a121_54ee75c9ca27row0_col0 {\n",
       "            color:  black;\n",
       "             background-color:  rgba(124,252,0,0.5);\n",
       "             font-weight:  bold;\n",
       "        }    #T_a5e8e93a_9dd4_11e9_a121_54ee75c9ca27row0_col1 {\n",
       "            color:  red;\n",
       "        }    #T_a5e8e93a_9dd4_11e9_a121_54ee75c9ca27row1_col0 {\n",
       "            color:  red;\n",
       "        }    #T_a5e8e93a_9dd4_11e9_a121_54ee75c9ca27row1_col1 {\n",
       "            color:  black;\n",
       "             background-color:  rgba(124,252,0,0.5);\n",
       "             font-weight:  bold;\n",
       "        }</style><table id=\"T_a5e8e93a_9dd4_11e9_a121_54ee75c9ca27\" ><thead>    <tr>        <th class=\"blank level0\" ></th>        <th class=\"col_heading level0 col0\" >predicted poison</th>        <th class=\"col_heading level0 col1\" >predicted edible</th>    </tr></thead><tbody>\n",
       "                <tr>\n",
       "                        <th id=\"T_a5e8e93a_9dd4_11e9_a121_54ee75c9ca27level0_row0\" class=\"row_heading level0 row0\" >poison</th>\n",
       "                        <td id=\"T_a5e8e93a_9dd4_11e9_a121_54ee75c9ca27row0_col0\" class=\"data row0 col0\" >1181</td>\n",
       "                        <td id=\"T_a5e8e93a_9dd4_11e9_a121_54ee75c9ca27row0_col1\" class=\"data row0 col1\" >0</td>\n",
       "            </tr>\n",
       "            <tr>\n",
       "                        <th id=\"T_a5e8e93a_9dd4_11e9_a121_54ee75c9ca27level0_row1\" class=\"row_heading level0 row1\" >edible</th>\n",
       "                        <td id=\"T_a5e8e93a_9dd4_11e9_a121_54ee75c9ca27row1_col0\" class=\"data row1 col0\" >0</td>\n",
       "                        <td id=\"T_a5e8e93a_9dd4_11e9_a121_54ee75c9ca27row1_col1\" class=\"data row1 col1\" >1257</td>\n",
       "            </tr>\n",
       "    </tbody></table>"
      ],
      "text/plain": [
       "<pandas.io.formats.style.Styler at 0x1de37140f98>"
      ]
     },
     "metadata": {},
     "output_type": "display_data"
    },
    {
     "name": "stdout",
     "output_type": "stream",
     "text": [
      "\n",
      "\n"
     ]
    },
    {
     "data": {
      "text/html": [
       "<h3>GaussianNB ROC Curve</h3>"
      ],
      "text/plain": [
       "<IPython.core.display.HTML object>"
      ]
     },
     "metadata": {},
     "output_type": "display_data"
    },
    {
     "data": {
      "image/png": "[encoded data removed]",
      "text/plain": [
       "<matplotlib.figure.Figure at 0x1de371f15c0>"
      ]
     },
     "metadata": {},
     "output_type": "display_data"
    },
    {
     "data": {
      "text/html": [
       "<p>log-loss: 3.81088</p>"
      ],
      "text/plain": [
       "<IPython.core.display.HTML object>"
      ]
     },
     "metadata": {},
     "output_type": "display_data"
    },
    {
     "data": {
      "text/html": [
       "<p>accuracy: 88%</p>"
      ],
      "text/plain": [
       "<IPython.core.display.HTML object>"
      ]
     },
     "metadata": {},
     "output_type": "display_data"
    },
    {
     "data": {
      "text/html": [
       "<h3>GaussianNB Confusion Matrix</h3>"
      ],
      "text/plain": [
       "<IPython.core.display.HTML object>"
      ]
     },
     "metadata": {},
     "output_type": "display_data"
    },
    {
     "data": {
      "text/html": [
       "<style  type=\"text/css\" >\n",
       "    #T_a60dfde2_9dd4_11e9_a8b2_54ee75c9ca27row0_col0 {\n",
       "            color:  black;\n",
       "             background-color:  rgba(124,252,0,0.5);\n",
       "             font-weight:  bold;\n",
       "        }    #T_a60dfde2_9dd4_11e9_a8b2_54ee75c9ca27row0_col1 {\n",
       "            color:  black;\n",
       "             background-color:  rgba(124,252,0,0.5);\n",
       "             font-weight:  bold;\n",
       "        }    #T_a60dfde2_9dd4_11e9_a8b2_54ee75c9ca27row1_col0 {\n",
       "            color:  black;\n",
       "             background-color:  rgba(124,252,0,0.5);\n",
       "             font-weight:  bold;\n",
       "        }    #T_a60dfde2_9dd4_11e9_a8b2_54ee75c9ca27row1_col1 {\n",
       "            color:  black;\n",
       "             background-color:  rgba(124,252,0,0.5);\n",
       "             font-weight:  bold;\n",
       "        }</style><table id=\"T_a60dfde2_9dd4_11e9_a8b2_54ee75c9ca27\" ><thead>    <tr>        <th class=\"blank level0\" ></th>        <th class=\"col_heading level0 col0\" >predicted poison</th>        <th class=\"col_heading level0 col1\" >predicted edible</th>    </tr></thead><tbody>\n",
       "                <tr>\n",
       "                        <th id=\"T_a60dfde2_9dd4_11e9_a8b2_54ee75c9ca27level0_row0\" class=\"row_heading level0 row0\" >poison</th>\n",
       "                        <td id=\"T_a60dfde2_9dd4_11e9_a8b2_54ee75c9ca27row0_col0\" class=\"data row0 col0\" >1180</td>\n",
       "                        <td id=\"T_a60dfde2_9dd4_11e9_a8b2_54ee75c9ca27row0_col1\" class=\"data row0 col1\" >1</td>\n",
       "            </tr>\n",
       "            <tr>\n",
       "                        <th id=\"T_a60dfde2_9dd4_11e9_a8b2_54ee75c9ca27level0_row1\" class=\"row_heading level0 row1\" >edible</th>\n",
       "                        <td id=\"T_a60dfde2_9dd4_11e9_a8b2_54ee75c9ca27row1_col0\" class=\"data row1 col0\" >268</td>\n",
       "                        <td id=\"T_a60dfde2_9dd4_11e9_a8b2_54ee75c9ca27row1_col1\" class=\"data row1 col1\" >989</td>\n",
       "            </tr>\n",
       "    </tbody></table>"
      ],
      "text/plain": [
       "<pandas.io.formats.style.Styler at 0x1de3723ca90>"
      ]
     },
     "metadata": {},
     "output_type": "display_data"
    },
    {
     "name": "stdout",
     "output_type": "stream",
     "text": [
      "\n",
      "\n"
     ]
    }
   ],
   "source": [
    "#print out all results\n",
    "import sklearn \n",
    "\n",
    "def return_labels(x):\n",
    "    if x == 1:\n",
    "        return 'edible'\n",
    "    else:\n",
    "        return 'poison'\n",
    "\n",
    "def styler(val):\n",
    "    if val == 0:\n",
    "        return 'color: red'\n",
    "    else:\n",
    "        return 'color: black; background-color: rgba(124,252,0,0.5); font-weight: bold'\n",
    "\n",
    "for key, value in predicted_series.items():\n",
    "    \n",
    "    display(HTML('<h3>'+key+' ROC Curve</h3>'))\n",
    "    \n",
    "    #print out ROC\n",
    "    get_roc_curve(y_test,value,title=key)\n",
    "    \n",
    "    #log-loss\n",
    "    display(HTML('<p>log-loss: '+str(round(metrics.log_loss(y_test,value),5))+'</p>'))\n",
    "    \n",
    "    #accuracy\n",
    "    display(HTML('<p>accuracy: '+str(int(metrics.accuracy_score(y_test,value)*100))+'%</p>'))\n",
    "    \n",
    "    #print out confusion matrix\n",
    "    new_df = pd.DataFrame(sklearn.metrics.confusion_matrix(y_test,value))\n",
    "    \n",
    "    #change column and index names\n",
    "    new_df = new_df.rename(index=str, columns={1: \"predicted edible\", 0: \"predicted poison\"})\n",
    "    new_df = new_df.rename({'0': \"poison\", '1': \"edible\"}, axis='index')\n",
    "    \n",
    "    #print out the results\n",
    "    display(HTML('<h3>'+key+' Confusion Matrix</h3>'))\n",
    "    display(new_df.style.applymap(styler))\n",
    "    print(\"\\n\")\n",
    "\n",
    "#print AUC\n",
    "#print confusion matrix"
   ]
  },
  {
   "cell_type": "markdown",
   "metadata": {
    "collapsed": true
   },
   "source": [
    "## Final Remarks <a id=\"final\"></a>\n",
    "\n",
    "Above, we see that nearly all of the models made perfect predictions except for the Gaussian Naive Bayes model, but even that model only predicted 1 false positive.  This is not a typical result--most models have curved ROC lines and have more false positives and false negatives when they make predictions.  Luckily, our mushroom data is looking very very predictive.  Scikit really <i>is</i> a powerful-and-easy library for building great classifiers.\n",
    "\n",
    "Typically, in other prediction tasks, one of the above models will perform better than others.  Perhaps a certain model just tends to fit a certain input space better, or perhaps certain algorithms perform better with certain variable types, but you will hardly ever see an AUC (area under [ROC] curve) of 1 like we see exhibited above.  Some classes of models tend to have higher variance, others have higher bias, and this tradeof is primarily what determines which algorithms perform better on which data.\n",
    "\n",
    "A final note: our data was only categorical above, in many scenarios this will not be the case, attributes in our data might be numeric or unstructured.  In many of these different scenarios, much more data cleaning and feature extraction might be involved, to say nothing of other techniques I might have utilized such as dimensionality reduction, feature selection, or feature engineering--most of the work is getting the data ready for the algorithms to ingest."
   ]
  }
 ],
 "metadata": {
  "kernelspec": {
   "display_name": "Python 3",
   "language": "python",
   "name": "python3"
  },
  "language_info": {
   "codemirror_mode": {
    "name": "ipython",
    "version": 3
   },
   "file_extension": ".py",
   "mimetype": "text/x-python",
   "name": "python",
   "nbconvert_exporter": "python",
   "pygments_lexer": "ipython3",
   "version": "3.6.1"
  }
 },
 "nbformat": 4,
 "nbformat_minor": 2
}
