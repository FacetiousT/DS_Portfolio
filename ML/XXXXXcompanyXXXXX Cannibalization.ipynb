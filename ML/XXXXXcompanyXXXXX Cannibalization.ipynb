{
 "cells": [
  {
   "cell_type": "code",
   "execution_count": 79,
   "metadata": {
    "collapsed": true
   },
   "outputs": [],
   "source": [
    "#import needed libraries\n",
    "import pymc3 as pm\n",
    "import scipy.stats as stats\n",
    "import numpy as np\n",
    "import theano.tensor as T\n",
    "import matplotlib.pyplot as plt"
   ]
  },
  {
   "cell_type": "code",
   "execution_count": 84,
   "metadata": {},
   "outputs": [],
   "source": [
    "#get datestamp and date of run\n",
    "import time\n",
    "## 12 hour format ##\n",
    "datestamp = (time.strftime(\"%m/%d/%Y %H:%M:%S\"))\n",
    "date = time.strftime(\"%m%d%y\")\n",
    "\n",
    "#create ordered dictionaries with needed values\n",
    "import collections as col"
   ]
  },
  {
   "cell_type": "code",
   "execution_count": 95,
   "metadata": {
    "collapsed": true
   },
   "outputs": [],
   "source": [
    "#now without dividing by ads or no\n",
    "dic3= col.OrderedDict()\n",
    "dic3['run_at'] = datestamp\n",
    "dic3['dic_name'] = 'XXXX' #create this with publisher name and device type\n",
    "dic3['device'] = 'desktop'\n",
    "dic3['cu'] = 19318 #control uniques\n",
    "dic3['cc'] = 198 #control clicks\n",
    "dic3['tu'] = 19070 #treatment uniques\n",
    "dic3['tc'] = 188 #treatment clicks"
   ]
  },
  {
   "cell_type": "code",
   "execution_count": 96,
   "metadata": {},
   "outputs": [],
   "source": [
    "def create_obs_vars(dic):\n",
    "\n",
    "    #for ordered dictionaries\n",
    "    import collections as col\n",
    "    \n",
    "    #placebo group\n",
    "    global control_obs\n",
    "    control_obs = np.hstack(([0]*(dic['cu']-dic['cc']),[1]*dic['cc']))    \n",
    "    \n",
    "    #test_group \n",
    "    global test_obs\n",
    "    test_obs = np.hstack(([0]*(dic['tu']-dic['tc']),[1]*dic['tc']))\n",
    "    \n",
    "    #calc placebo conv rate\n",
    "    global control_conv\n",
    "    control_conv = float(dic['cc'])/float(dic['cu'])\n",
    "    \n",
    "    #calc test conv rate\n",
    "    global test_conv\n",
    "    test_conv = float(dic['tc'])/float(dic['tu'])\n",
    "    \n",
    "    #get the dictionary name\n",
    "    global dic_nam\n",
    "    dic_nam = dic['dic_name']\n",
    "    \n",
    "    #create csv dictionary\n",
    "    global csv_dic\n",
    "    csv_dic = {} #col.OrderedDict()\n",
    "    csv_dic.update(dic)\n",
    "    \n",
    "    return control_obs, test_obs, control_conv, dic_nam, csv_dic, test_conv"
   ]
  },
  {
   "cell_type": "code",
   "execution_count": 97,
   "metadata": {},
   "outputs": [
    {
     "data": {
      "text/plain": [
       "(array([0, 0, 0, ..., 1, 1, 1]),\n",
       " array([0, 0, 0, ..., 1, 1, 1]),\n",
       " 0.010249508230665701,\n",
       " 'HolidayCheckD',\n",
       " {'cc': 198,\n",
       "  'cu': 19318,\n",
       "  'device': 'desktop',\n",
       "  'dic_name': 'HolidayCheckD',\n",
       "  'run_at': '05/08/2017 17:48:37',\n",
       "  'tc': 188,\n",
       "  'tu': 19070},\n",
       " 0.009858416360776088)"
      ]
     },
     "execution_count": 97,
     "metadata": {},
     "output_type": "execute_result"
    }
   ],
   "source": [
    "#create important globals\n",
    "create_obs_vars(dic3)"
   ]
  },
  {
   "cell_type": "code",
   "execution_count": 98,
   "metadata": {},
   "outputs": [
    {
     "name": "stderr",
     "output_type": "stream",
     "text": [
      "C:\\Users\\tnelson\\Anaconda3\\lib\\site-packages\\theano\\tensor\\basic.py:2146: UserWarning: theano.tensor.round() changed its default from `half_away_from_zero` to `half_to_even` to have the same default as NumPy. Use the Theano flag `warn.round=False` to disable this warning.\n",
      "  \"theano.tensor.round() changed its default from\"\n",
      "100%|██████████████████████████████████████████████████████████████████████████| 20000/20000 [00:06<00:00, 3095.79it/s]\n"
     ]
    }
   ],
   "source": [
    "#set up the pymc3 model. \n",
    "with pm.Model() as model:\n",
    "    \n",
    "    #generate the needed variables here divide up the globals and the locals in the future\n",
    "    \n",
    "    #prior as uniform stochastic variable\n",
    "    #stronger beliefs could lead to different priors\n",
    "    p_test = pm.Uniform(\"p_test\", 0, 1)\n",
    "    p_control = pm.Uniform(\"p_control\", 0, 1)\n",
    "    \n",
    "    #deterministic delta variable, our unknown of interest\n",
    "    #deterministic is not based on a distribution\n",
    "    delta = pm.Deterministic(\"delta\", p_test - p_control)\n",
    "    \n",
    "    # Set of observations\n",
    "    # Bernoulli stochastic variables generated via our observed values\n",
    "    obs_A = pm.Bernoulli(\"obs_A\", p_test, observed=test_obs)\n",
    "    obs_B = pm.Bernoulli(\"obs_B\", p_control, observed=control_obs)\n",
    "\n",
    "    #monte carlo simulation, last step of model, this part takes the longest\n",
    "    #metropolis-hastings algo, gets sequence of random variables from prob. dist.\n",
    "    step = pm.Metropolis()\n",
    "    trace = pm.sample(20000, step=step)\n",
    "    burned_trace = trace[10000:]"
   ]
  },
  {
   "cell_type": "code",
   "execution_count": 99,
   "metadata": {},
   "outputs": [],
   "source": [
    "# generated likelihood, prior, and posterior distributions as arrays of values\n",
    "p_test_samples = burned_trace[\"p_test\"]\n",
    "p_control_samples = burned_trace[\"p_control\"]\n",
    "delta_samples = burned_trace[\"delta\"]"
   ]
  },
  {
   "cell_type": "code",
   "execution_count": 100,
   "metadata": {},
   "outputs": [
    {
     "name": "stdout",
     "output_type": "stream",
     "text": [
      "{'run_at': '05/08/2017 17:48:37', 'dic_name': 'HolidayCheckD', 'device': 'desktop', 'cu': 19318, 'cc': 198, 'tu': 19070, 'tc': 188, 'conrol_conv': 0.0102, 'treatment_conv': 0.0099, 'avg_diff': 3.816, 'target_cann': -0.02, 'prob_cann': 57.600000000000001, 'prob_no_cann': 42.399999999999999, 'conf_int_l': '-0.00201620457817', 'conf_int_h': '0.00123863542116', 'conf_int_rel_l': '-19.67', 'conf_int_rel_h': '12.08'}\n"
     ]
    }
   ],
   "source": [
    "#put key results into the csv dictionary\n",
    "\n",
    "#record all the stats here and save as csv\n",
    "#add the absolute line for 2%\n",
    "target_cann = -0.02\n",
    "abs_target = (control_conv)*target_cann\n",
    "sim_avg = round(np.mean(delta_samples),6)\n",
    "prob_cann = round(np.mean(delta_samples < abs_target)*100,2)\n",
    "prob_no_cann = round(np.mean(delta_samples > abs_target)*100,2)\n",
    "conf_int_l = str(np.percentile(delta_samples,5))\n",
    "conf_int_h = str(np.percentile(delta_samples,95))\n",
    "conf_int_rel_l = str(round(100*(np.percentile(delta_samples,5)/control_conv),2))\n",
    "conf_int_rel_h = str(round(100*(np.percentile(delta_samples,95)/control_conv),2))\n",
    "\n",
    "#add to csv dictionary\n",
    "csv_dic['conrol_conv'] = round(control_conv,4)\n",
    "csv_dic['treatment_conv'] = round(test_conv,4)\n",
    "csv_dic['avg_diff'] = round(((control_conv-(float(csv_dic['tc'])/float(csv_dic['tu'])))/control_conv)*100,3)\n",
    "csv_dic['target_cann'] = target_cann\n",
    "#csv_dic['sim_avg'] = sim_avg\n",
    "csv_dic['prob_cann'] = prob_cann\n",
    "csv_dic['prob_no_cann'] = prob_no_cann\n",
    "csv_dic['conf_int_l'] = conf_int_l\n",
    "csv_dic['conf_int_h'] = conf_int_h\n",
    "csv_dic['conf_int_rel_l'] = conf_int_rel_l\n",
    "csv_dic['conf_int_rel_h'] = conf_int_rel_h\n",
    "\n",
    "print(csv_dic)"
   ]
  },
  {
   "cell_type": "code",
   "execution_count": 102,
   "metadata": {},
   "outputs": [
    {
     "data": {
      "image/png": "[encoded data removed]",
      "text/plain": [
       "<matplotlib.figure.Figure at 0x1f39e2c72e8>"
      ]
     },
     "metadata": {},
     "output_type": "display_data"
    },
    {
     "name": "stdout",
     "output_type": "stream",
     "text": [
      "average difference -0.000395231518855 over control_conv:-0.0385610226325\n",
      "Probability of cannibalization > 2% is 57.6%\n",
      "95% confidence interval (-0.00201620457817, 0.00123863542116)\n",
      "95% confident effect range (-19.67%,12.08%)\n"
     ]
    }
   ],
   "source": [
    "#visualize the delta dist. and save as an image\n",
    "\n",
    "#view iplots inline\n",
    "%matplotlib inline  \n",
    "\n",
    "#create the plot figure / plot container\n",
    "fig = plt.figure()\n",
    "fig.suptitle('simulated delta distribution', fontsize=14, fontweight='bold')\n",
    "fig.suptitle('simulated diff distribution', fontsize=14, fontweight='bold')\n",
    "\n",
    "#create and plot the subplot\n",
    "ax = plt.subplot(111)\n",
    "plt.hist(delta_samples, histtype='stepfilled', bins=30, alpha=0.85,\n",
    "         label=\"posterior of delta\", color=\"#7A68A6\", normed=True)\n",
    "plt.vlines(0, 0, 1000, color=\"black\", linestyle=\"--\") #, label=\"neg-pos division\")\n",
    "plt.vlines(abs_target, 0, 1000, color=\"blue\", linestyle=\"-\", label=\"-2% target p\")\n",
    "plt.legend(loc=\"upper right\");\n",
    "plt.show()\n",
    "\n",
    "#save the plot as a file\n",
    "fig.savefig(file_name+\".png\",bbox_inches='tight')\n",
    "\n",
    "#print out key metrics\n",
    "abs_two = (control_conv)*.02*-1\n",
    "print (\"average difference \" +str(np.mean(delta_samples))+ \" over control_conv:\"+ str(np.mean(delta_samples)/control_conv))\n",
    "#print \"Probability of cannibalization is \"+str(np.mean(delta_samples < 0)*100)+\"%\"\n",
    "#print \"Probability of no cannibalization is \"+str(np.mean(delta_samples > 0)*100)+\"%\"\n",
    "print (\"Probability of cannibalization > 2% is \"+str(np.mean(delta_samples < abs_two)*100)+\"%\")\n",
    "print (\"95% confidence interval (\"+str(np.percentile(delta_samples,5))+\", \"+str(np.percentile(delta_samples,95))+\")\")\n",
    "print (\"95% confident effect range (\" +str(round(100*(np.percentile(delta_samples,5)/control_conv),2))+\"%,\"+str(round(100*(np.percentile(delta_samples,95)/control_conv),2))+\"%)\")\n"
   ]
  },
  {
   "cell_type": "code",
   "execution_count": 103,
   "metadata": {},
   "outputs": [
    {
     "name": "stdout",
     "output_type": "stream",
     "text": [
      "19318 control uniques\n",
      "198 control conversions\n",
      "1.02% control conversion\n",
      "19070 treatment uniques\n",
      "188 treatment conversions\n",
      "0.99% test conversion\n",
      "3.815713506327043% avg diff\n"
     ]
    }
   ],
   "source": [
    "#final counts\n",
    "print (str(csv_dic['cu'])+\" control uniques\")\n",
    "print (str(csv_dic['cc'])+\" control conversions\")\n",
    "print (str(round(control_conv*100,2))+\"% control conversion\")\n",
    "print (str(csv_dic['tu'])+\" treatment uniques\")\n",
    "print (str(csv_dic['tc'])+\" treatment conversions\")\n",
    "print (str(round((float(csv_dic['tc'])/float(csv_dic['tu']))*100,2))+\"% test conversion\")\n",
    "print (str(((control_conv-(float(csv_dic['tc'])/float(csv_dic['tu'])))/control_conv)*100)+\"% avg diff\")"
   ]
  },
  {
   "cell_type": "code",
   "execution_count": null,
   "metadata": {
    "collapsed": true
   },
   "outputs": [],
   "source": [
    "#put everything into S3 bucket"
   ]
  }
 ],
 "metadata": {
  "bento_stylesheets": {
   "bento/extensions/flow/main.css": true,
   "bento/extensions/kernel_selector/main.css": true,
   "bento/extensions/kernel_ui/main.css": true,
   "bento/extensions/new_kernel/main.css": true,
   "bento/extensions/system_usage/main.css": true,
   "bento/extensions/theme/main.css": true
  },
  "disseminate_notebook_id": {
   "notebook_id": "3074886775922774"
  },
  "disseminate_notebook_info": {
   "bento_version": "20200802-210114",
   "description": "Bayesian AB testing method example",
   "hide_code": false,
   "hipster_group": "",
   "kernel_build_info": {
    "error": "The file located at '/data/users/nelsontaylor/fbsource/fbcode/bento/kernels/TARGETS' could not be found."
   },
   "no_uii": true,
   "notebook_number": "322845",
   "others_can_edit": false,
   "reviewers": "",
   "revision_id": "297204238159648",
   "tags": "",
   "tasks": "",
   "title": "XXXXXcompanyXXXXX Cannibalization"
  },
  "kernelspec": {
   "display_name": "Python 3",
   "language": "python",
   "name": "python3"
  },
  "language_info": {
   "codemirror_mode": {
    "name": "ipython",
    "version": 3
   },
   "file_extension": ".py",
   "mimetype": "text/x-python",
   "name": "python",
   "nbconvert_exporter": "python",
   "pygments_lexer": "ipython3",
   "version": "3.7.5+"
  }
 },
 "nbformat": 4,
 "nbformat_minor": 1
}
